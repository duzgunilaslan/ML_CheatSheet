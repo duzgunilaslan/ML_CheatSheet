{
 "cells": [
  {
   "cell_type": "code",
   "execution_count": 1,
   "id": "d5606c84",
   "metadata": {},
   "outputs": [],
   "source": [
    "import numpy as np"
   ]
  },
  {
   "cell_type": "code",
   "execution_count": 10,
   "id": "118d7279",
   "metadata": {},
   "outputs": [],
   "source": [
    "# Create an Array\n",
    "a = np.array([2,1,3])\n",
    "b = np.array([(1.5,2,3),(4,5,6)], dtype = float)\n",
    "c = np.array([[(1.5,2,3),(4,5,6)],[(3,2,1),(4,5,6)]], dtype = float)"
   ]
  },
  {
   "cell_type": "code",
   "execution_count": 6,
   "id": "bb006e5b",
   "metadata": {},
   "outputs": [
    {
     "data": {
      "text/plain": [
       "array([1, 2, 3])"
      ]
     },
     "execution_count": 6,
     "metadata": {},
     "output_type": "execute_result"
    }
   ],
   "source": [
    "#Sorting \n",
    "a.sort()\n",
    "a"
   ]
  },
  {
   "cell_type": "code",
   "execution_count": 7,
   "id": "79da9ec5",
   "metadata": {},
   "outputs": [
    {
     "data": {
      "text/plain": [
       "array([[[1.5, 2. , 3. ],\n",
       "        [4. , 5. , 6. ]],\n",
       "\n",
       "       [[1. , 2. , 3. ],\n",
       "        [4. , 5. , 6. ]]])"
      ]
     },
     "execution_count": 7,
     "metadata": {},
     "output_type": "execute_result"
    }
   ],
   "source": [
    "c.sort()\n",
    "c"
   ]
  },
  {
   "cell_type": "markdown",
   "id": "35c694d2",
   "metadata": {},
   "source": [
    "## Subsetting, Slicing, Indexing"
   ]
  },
  {
   "cell_type": "markdown",
   "id": "81a28e9a",
   "metadata": {},
   "source": [
    "Subsetting"
   ]
  },
  {
   "cell_type": "code",
   "execution_count": 9,
   "id": "0472cbbe",
   "metadata": {},
   "outputs": [
    {
     "data": {
      "text/plain": [
       "3"
      ]
     },
     "execution_count": 9,
     "metadata": {},
     "output_type": "execute_result"
    }
   ],
   "source": [
    "#Select the element at the 2nd index\n",
    "a[2]"
   ]
  },
  {
   "cell_type": "code",
   "execution_count": 11,
   "id": "763a83d4",
   "metadata": {},
   "outputs": [
    {
     "data": {
      "text/plain": [
       "6.0"
      ]
     },
     "execution_count": 11,
     "metadata": {},
     "output_type": "execute_result"
    }
   ],
   "source": [
    "#Select the element at row 1 column 2 (equivalent to b[1][2])\n",
    "b[1,2]"
   ]
  },
  {
   "cell_type": "markdown",
   "id": "b7db0ce7",
   "metadata": {},
   "source": [
    "Slicing"
   ]
  },
  {
   "cell_type": "code",
   "execution_count": 12,
   "id": "3e350ff4",
   "metadata": {},
   "outputs": [
    {
     "data": {
      "text/plain": [
       "array([2, 1])"
      ]
     },
     "execution_count": 12,
     "metadata": {},
     "output_type": "execute_result"
    }
   ],
   "source": [
    "#Select items at index 0 and 1\n",
    "a[0:2]"
   ]
  },
  {
   "cell_type": "code",
   "execution_count": 13,
   "id": "0a6834be",
   "metadata": {},
   "outputs": [
    {
     "data": {
      "text/plain": [
       "array([2., 5.])"
      ]
     },
     "execution_count": 13,
     "metadata": {},
     "output_type": "execute_result"
    }
   ],
   "source": [
    "#Select items at rows 0 and 1 in column 1\n",
    "b[0:2,1]"
   ]
  },
  {
   "cell_type": "code",
   "execution_count": 14,
   "id": "82d64dbe",
   "metadata": {},
   "outputs": [
    {
     "data": {
      "text/plain": [
       "array([[1.5, 2. , 3. ]])"
      ]
     },
     "execution_count": 14,
     "metadata": {},
     "output_type": "execute_result"
    }
   ],
   "source": [
    "#Select all items at row 0 (equivalent to b[0:1, :])\n",
    "b[:1]"
   ]
  },
  {
   "cell_type": "code",
   "execution_count": 15,
   "id": "f6fd361c",
   "metadata": {},
   "outputs": [
    {
     "data": {
      "text/plain": [
       "array([[3., 2., 1.],\n",
       "       [4., 5., 6.]])"
      ]
     },
     "execution_count": 15,
     "metadata": {},
     "output_type": "execute_result"
    }
   ],
   "source": [
    "#Same as [1,:,:]\n",
    "c[1,...]"
   ]
  },
  {
   "cell_type": "code",
   "execution_count": 16,
   "id": "86df1cf5",
   "metadata": {},
   "outputs": [
    {
     "data": {
      "text/plain": [
       "array([3, 1, 2])"
      ]
     },
     "execution_count": 16,
     "metadata": {},
     "output_type": "execute_result"
    }
   ],
   "source": [
    "#Reversed array a array([3, 2, 1])\n",
    "a[: :-1]"
   ]
  },
  {
   "cell_type": "markdown",
   "id": "b0378bfc",
   "metadata": {},
   "source": [
    "Boolean Indexing"
   ]
  },
  {
   "cell_type": "code",
   "execution_count": 17,
   "id": "99121dff",
   "metadata": {},
   "outputs": [
    {
     "data": {
      "text/plain": [
       "array([1])"
      ]
     },
     "execution_count": 17,
     "metadata": {},
     "output_type": "execute_result"
    }
   ],
   "source": [
    "#Select elements from a less than 2\n",
    "a[a < 2]"
   ]
  },
  {
   "cell_type": "markdown",
   "id": "6206d5dc",
   "metadata": {},
   "source": [
    "Fancy Indexing"
   ]
  },
  {
   "cell_type": "code",
   "execution_count": 18,
   "id": "9aa5e005",
   "metadata": {},
   "outputs": [
    {
     "data": {
      "text/plain": [
       "array([4. , 2. , 6. , 1.5])"
      ]
     },
     "execution_count": 18,
     "metadata": {},
     "output_type": "execute_result"
    }
   ],
   "source": [
    "#Select elements (1,0),(0,1),(1,2) and (0,0)\n",
    "b[[1, 0, 1, 0],[0, 1, 2, 0]]"
   ]
  },
  {
   "cell_type": "code",
   "execution_count": 19,
   "id": "f56316ee",
   "metadata": {},
   "outputs": [
    {
     "data": {
      "text/plain": [
       "array([[4. , 5. , 6. , 4. ],\n",
       "       [1.5, 2. , 3. , 1.5],\n",
       "       [4. , 5. , 6. , 4. ],\n",
       "       [1.5, 2. , 3. , 1.5]])"
      ]
     },
     "execution_count": 19,
     "metadata": {},
     "output_type": "execute_result"
    }
   ],
   "source": [
    "#Select a subset of the matrix’s rows and columns\n",
    "b[[1, 0, 1, 0]][:,[0,1,2,0]]"
   ]
  },
  {
   "cell_type": "markdown",
   "id": "de441665",
   "metadata": {},
   "source": [
    "## Array Manipulation"
   ]
  },
  {
   "cell_type": "markdown",
   "id": "a528b66d",
   "metadata": {},
   "source": [
    "Transposing Array"
   ]
  },
  {
   "cell_type": "code",
   "execution_count": 22,
   "id": "b51123f1",
   "metadata": {},
   "outputs": [
    {
     "data": {
      "text/plain": [
       "array([[1.5, 4. ],\n",
       "       [2. , 5. ],\n",
       "       [3. , 6. ]])"
      ]
     },
     "execution_count": 22,
     "metadata": {},
     "output_type": "execute_result"
    }
   ],
   "source": [
    "#Permute array dimensions\n",
    "i = np.transpose(b)\n",
    "i"
   ]
  },
  {
   "cell_type": "code",
   "execution_count": 23,
   "id": "2fb36f50",
   "metadata": {},
   "outputs": [
    {
     "data": {
      "text/plain": [
       "array([[1.5, 2. , 3. ],\n",
       "       [4. , 5. , 6. ]])"
      ]
     },
     "execution_count": 23,
     "metadata": {},
     "output_type": "execute_result"
    }
   ],
   "source": [
    "i.T"
   ]
  },
  {
   "cell_type": "markdown",
   "id": "8948193e",
   "metadata": {},
   "source": [
    "Changing Array Shape"
   ]
  },
  {
   "cell_type": "code",
   "execution_count": 25,
   "id": "042bab2c",
   "metadata": {},
   "outputs": [
    {
     "data": {
      "text/plain": [
       "array([1.5, 2. , 3. , 4. , 5. , 6. ])"
      ]
     },
     "execution_count": 25,
     "metadata": {},
     "output_type": "execute_result"
    }
   ],
   "source": [
    "#Flatten the array\n",
    "b.ravel()"
   ]
  },
  {
   "cell_type": "code",
   "execution_count": 26,
   "id": "d38143da",
   "metadata": {},
   "outputs": [
    {
     "data": {
      "text/plain": [
       "array([[ 0.5, -1. ],\n",
       "       [ 0. , -2. ],\n",
       "       [-4. , -3. ]])"
      ]
     },
     "execution_count": 26,
     "metadata": {},
     "output_type": "execute_result"
    }
   ],
   "source": [
    "g = a- b\n",
    "#Reshape, but don’t change data\n",
    "g.reshape(3,-2)"
   ]
  },
  {
   "cell_type": "markdown",
   "id": "5c628c47",
   "metadata": {},
   "source": [
    "Adding/Removing Elements"
   ]
  },
  {
   "cell_type": "code",
   "execution_count": 28,
   "id": "9b51ae2f",
   "metadata": {},
   "outputs": [
    {
     "data": {
      "text/plain": [
       "array([[2, 1, 3, 0, 0, 0],\n",
       "       [0, 0, 0, 0, 0, 0]])"
      ]
     },
     "execution_count": 28,
     "metadata": {},
     "output_type": "execute_result"
    }
   ],
   "source": [
    "h = a.copy()\n",
    "#Return a new array with shape (2,6)\n",
    "h.resize((2,6))\n",
    "h"
   ]
  },
  {
   "cell_type": "code",
   "execution_count": 29,
   "id": "bf4ba7c9",
   "metadata": {},
   "outputs": [
    {
     "data": {
      "text/plain": [
       "array([ 2. ,  1. ,  3. ,  0. ,  0. ,  0. ,  0. ,  0. ,  0. ,  0. ,  0. ,\n",
       "        0. ,  0.5, -1. ,  0. , -2. , -4. , -3. ])"
      ]
     },
     "execution_count": 29,
     "metadata": {},
     "output_type": "execute_result"
    }
   ],
   "source": [
    "#Append items to an array\n",
    "np.append(h, g)"
   ]
  },
  {
   "cell_type": "code",
   "execution_count": 33,
   "id": "6b3308f6",
   "metadata": {},
   "outputs": [
    {
     "data": {
      "text/plain": [
       "array([2, 1, 3, 5])"
      ]
     },
     "execution_count": 33,
     "metadata": {},
     "output_type": "execute_result"
    }
   ],
   "source": [
    "#Insert items in an array 3 is index 5 is adding value\n",
    "np.insert(a, 3, 5)"
   ]
  },
  {
   "cell_type": "code",
   "execution_count": 34,
   "id": "680323ed",
   "metadata": {},
   "outputs": [
    {
     "data": {
      "text/plain": [
       "array([2, 3])"
      ]
     },
     "execution_count": 34,
     "metadata": {},
     "output_type": "execute_result"
    }
   ],
   "source": [
    "#Delete items from an array\n",
    "np.delete(a,[1])"
   ]
  },
  {
   "cell_type": "markdown",
   "id": "f5edd21b",
   "metadata": {},
   "source": [
    "Combining Arrays"
   ]
  },
  {
   "cell_type": "code",
   "execution_count": 35,
   "id": "a22732cf",
   "metadata": {},
   "outputs": [
    {
     "data": {
      "text/plain": [
       "array([ 2,  1,  3, 10, 15, 20])"
      ]
     },
     "execution_count": 35,
     "metadata": {},
     "output_type": "execute_result"
    }
   ],
   "source": [
    "d = np.arange(10,25,5)\n",
    "#Concatenate arrays\n",
    "np.concatenate((a,d),axis=0)"
   ]
  },
  {
   "cell_type": "code",
   "execution_count": 36,
   "id": "31bb2619",
   "metadata": {},
   "outputs": [
    {
     "data": {
      "text/plain": [
       "array([[2. , 1. , 3. ],\n",
       "       [1.5, 2. , 3. ],\n",
       "       [4. , 5. , 6. ]])"
      ]
     },
     "execution_count": 36,
     "metadata": {},
     "output_type": "execute_result"
    }
   ],
   "source": [
    "#Stack arrays vertically (row-wise)\n",
    "np.vstack((a,b))"
   ]
  },
  {
   "cell_type": "code",
   "execution_count": 37,
   "id": "777f503c",
   "metadata": {},
   "outputs": [
    {
     "data": {
      "text/plain": [
       "array([[7., 7.],\n",
       "       [7., 7.],\n",
       "       [1., 0.],\n",
       "       [0., 1.]])"
      ]
     },
     "execution_count": 37,
     "metadata": {},
     "output_type": "execute_result"
    }
   ],
   "source": [
    "e = np.full((2,2),7)\n",
    "f = np.eye(2)\n",
    "#Stack arrays vertically (row-wise)\n",
    "np.r_[e,f]"
   ]
  },
  {
   "cell_type": "code",
   "execution_count": 39,
   "id": "4fb2ec58",
   "metadata": {},
   "outputs": [
    {
     "data": {
      "text/plain": [
       "array([[7., 7., 1., 0.],\n",
       "       [7., 7., 0., 1.]])"
      ]
     },
     "execution_count": 39,
     "metadata": {},
     "output_type": "execute_result"
    }
   ],
   "source": [
    "#Stack arrays horizontally (column-wise)\n",
    "np.hstack((e,f))"
   ]
  },
  {
   "cell_type": "code",
   "execution_count": 40,
   "id": "5fe0cd0e",
   "metadata": {},
   "outputs": [
    {
     "data": {
      "text/plain": [
       "array([[ 2, 10],\n",
       "       [ 1, 15],\n",
       "       [ 3, 20]])"
      ]
     },
     "execution_count": 40,
     "metadata": {},
     "output_type": "execute_result"
    }
   ],
   "source": [
    "#Create stacked column-wise arrays\n",
    "np.column_stack((a,d))"
   ]
  },
  {
   "cell_type": "markdown",
   "id": "5afdcb0d",
   "metadata": {},
   "source": [
    "Splitting Arrays"
   ]
  },
  {
   "cell_type": "code",
   "execution_count": 42,
   "id": "4f860d23",
   "metadata": {},
   "outputs": [
    {
     "data": {
      "text/plain": [
       "[array([2]), array([1]), array([3])]"
      ]
     },
     "execution_count": 42,
     "metadata": {},
     "output_type": "execute_result"
    }
   ],
   "source": [
    "#Split the array horizontally at the 3rd index\n",
    "np.hsplit(a,3)"
   ]
  },
  {
   "cell_type": "code",
   "execution_count": 43,
   "id": "08cd3a96",
   "metadata": {},
   "outputs": [
    {
     "data": {
      "text/plain": [
       "[array([[[1.5, 2. , 3. ],\n",
       "         [4. , 5. , 6. ]]]),\n",
       " array([[[3., 2., 1.],\n",
       "         [4., 5., 6.]]])]"
      ]
     },
     "execution_count": 43,
     "metadata": {},
     "output_type": "execute_result"
    }
   ],
   "source": [
    "#Split the array vertically at the 2nd index\n",
    "np.vsplit(c,2)"
   ]
  },
  {
   "cell_type": "code",
   "execution_count": null,
   "id": "ffdec855",
   "metadata": {},
   "outputs": [],
   "source": []
  }
 ],
 "metadata": {
  "kernelspec": {
   "display_name": "Python 3",
   "language": "python",
   "name": "python3"
  },
  "language_info": {
   "codemirror_mode": {
    "name": "ipython",
    "version": 3
   },
   "file_extension": ".py",
   "mimetype": "text/x-python",
   "name": "python",
   "nbconvert_exporter": "python",
   "pygments_lexer": "ipython3",
   "version": "3.8.11"
  }
 },
 "nbformat": 4,
 "nbformat_minor": 5
}
