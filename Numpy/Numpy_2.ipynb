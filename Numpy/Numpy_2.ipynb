{
 "cells": [
  {
   "cell_type": "code",
   "execution_count": 1,
   "id": "922b21c2",
   "metadata": {},
   "outputs": [],
   "source": [
    "import numpy as np"
   ]
  },
  {
   "cell_type": "markdown",
   "id": "2650b28e",
   "metadata": {},
   "source": [
    "## Array Mathematics"
   ]
  },
  {
   "cell_type": "code",
   "execution_count": 2,
   "id": "2c6b9b2d",
   "metadata": {},
   "outputs": [],
   "source": [
    "a = np.array([1,2,3])\n",
    "b = np.array([(6,2,5),(2,6,4)])"
   ]
  },
  {
   "cell_type": "markdown",
   "id": "86a3c3fb",
   "metadata": {},
   "source": [
    "Arithmatic Operations"
   ]
  },
  {
   "cell_type": "code",
   "execution_count": 4,
   "id": "5c11711e",
   "metadata": {},
   "outputs": [
    {
     "data": {
      "text/plain": [
       "array([[-5,  0, -2],\n",
       "       [-1, -4, -1]])"
      ]
     },
     "execution_count": 4,
     "metadata": {},
     "output_type": "execute_result"
    }
   ],
   "source": [
    "# Subtraction\n",
    "g = a - b\n",
    "g"
   ]
  },
  {
   "cell_type": "code",
   "execution_count": 5,
   "id": "ad96fd8e",
   "metadata": {},
   "outputs": [
    {
     "data": {
      "text/plain": [
       "array([[-5,  0, -2],\n",
       "       [-1, -4, -1]])"
      ]
     },
     "execution_count": 5,
     "metadata": {},
     "output_type": "execute_result"
    }
   ],
   "source": [
    "np.subtract(a,b)"
   ]
  },
  {
   "cell_type": "code",
   "execution_count": 6,
   "id": "584610b2",
   "metadata": {},
   "outputs": [
    {
     "data": {
      "text/plain": [
       "array([[7, 4, 8],\n",
       "       [3, 8, 7]])"
      ]
     },
     "execution_count": 6,
     "metadata": {},
     "output_type": "execute_result"
    }
   ],
   "source": [
    "# Addition\n",
    "b + a "
   ]
  },
  {
   "cell_type": "code",
   "execution_count": 7,
   "id": "7122840e",
   "metadata": {},
   "outputs": [
    {
     "data": {
      "text/plain": [
       "array([[7, 4, 8],\n",
       "       [3, 8, 7]])"
      ]
     },
     "execution_count": 7,
     "metadata": {},
     "output_type": "execute_result"
    }
   ],
   "source": [
    "np.add(b, a)"
   ]
  },
  {
   "cell_type": "code",
   "execution_count": 8,
   "id": "323331bd",
   "metadata": {},
   "outputs": [
    {
     "data": {
      "text/plain": [
       "array([[0.16666667, 1.        , 0.6       ],\n",
       "       [0.5       , 0.33333333, 0.75      ]])"
      ]
     },
     "execution_count": 8,
     "metadata": {},
     "output_type": "execute_result"
    }
   ],
   "source": [
    "# Division\n",
    "a / b"
   ]
  },
  {
   "cell_type": "code",
   "execution_count": 10,
   "id": "9e33104d",
   "metadata": {},
   "outputs": [
    {
     "data": {
      "text/plain": [
       "array([[0.16666667, 1.        , 0.6       ],\n",
       "       [0.5       , 0.33333333, 0.75      ]])"
      ]
     },
     "execution_count": 10,
     "metadata": {},
     "output_type": "execute_result"
    }
   ],
   "source": [
    "np.divide(a,b)"
   ]
  },
  {
   "cell_type": "code",
   "execution_count": 11,
   "id": "3d44c98b",
   "metadata": {},
   "outputs": [
    {
     "data": {
      "text/plain": [
       "array([[ 6,  4, 15],\n",
       "       [ 2, 12, 12]])"
      ]
     },
     "execution_count": 11,
     "metadata": {},
     "output_type": "execute_result"
    }
   ],
   "source": [
    "# Multiplication\n",
    "a * b"
   ]
  },
  {
   "cell_type": "code",
   "execution_count": 12,
   "id": "c6a84070",
   "metadata": {},
   "outputs": [
    {
     "data": {
      "text/plain": [
       "array([[ 6,  4, 15],\n",
       "       [ 2, 12, 12]])"
      ]
     },
     "execution_count": 12,
     "metadata": {},
     "output_type": "execute_result"
    }
   ],
   "source": [
    "np.multiply(a ,b)"
   ]
  },
  {
   "cell_type": "code",
   "execution_count": 13,
   "id": "ea8df114",
   "metadata": {},
   "outputs": [
    {
     "data": {
      "text/plain": [
       "array([[403.42879349,   7.3890561 , 148.4131591 ],\n",
       "       [  7.3890561 , 403.42879349,  54.59815003]])"
      ]
     },
     "execution_count": 13,
     "metadata": {},
     "output_type": "execute_result"
    }
   ],
   "source": [
    "#Exponentiation\n",
    "np.exp(b)"
   ]
  },
  {
   "cell_type": "code",
   "execution_count": 14,
   "id": "f01e0b51",
   "metadata": {},
   "outputs": [
    {
     "data": {
      "text/plain": [
       "array([[2.44948974, 1.41421356, 2.23606798],\n",
       "       [1.41421356, 2.44948974, 2.        ]])"
      ]
     },
     "execution_count": 14,
     "metadata": {},
     "output_type": "execute_result"
    }
   ],
   "source": [
    "# Square root\n",
    "np.sqrt(b)"
   ]
  },
  {
   "cell_type": "code",
   "execution_count": 15,
   "id": "3d1add8a",
   "metadata": {},
   "outputs": [
    {
     "data": {
      "text/plain": [
       "array([0.84147098, 0.90929743, 0.14112001])"
      ]
     },
     "execution_count": 15,
     "metadata": {},
     "output_type": "execute_result"
    }
   ],
   "source": [
    "#Sines of an array\n",
    "np.sin(a)"
   ]
  },
  {
   "cell_type": "code",
   "execution_count": 16,
   "id": "6fa640fb",
   "metadata": {},
   "outputs": [
    {
     "data": {
      "text/plain": [
       "array([ 0.54030231, -0.41614684, -0.9899925 ])"
      ]
     },
     "execution_count": 16,
     "metadata": {},
     "output_type": "execute_result"
    }
   ],
   "source": [
    "#Element-wise cosine\n",
    "np.cos(a)"
   ]
  },
  {
   "cell_type": "code",
   "execution_count": 17,
   "id": "99c304ad",
   "metadata": {},
   "outputs": [
    {
     "data": {
      "text/plain": [
       "array([0.        , 0.69314718, 1.09861229])"
      ]
     },
     "execution_count": 17,
     "metadata": {},
     "output_type": "execute_result"
    }
   ],
   "source": [
    "#Element-wise natural logarithm\n",
    "np.log(a)"
   ]
  },
  {
   "cell_type": "code",
   "execution_count": 18,
   "id": "e8391bdd",
   "metadata": {},
   "outputs": [
    {
     "data": {
      "text/plain": [
       "array([[7., 7.],\n",
       "       [7., 7.]])"
      ]
     },
     "execution_count": 18,
     "metadata": {},
     "output_type": "execute_result"
    }
   ],
   "source": [
    "f = np.eye(2)\n",
    "e = np.full((2,2),7)\n",
    "#Dot product\n",
    "e.dot(f)"
   ]
  },
  {
   "cell_type": "markdown",
   "id": "6884bd25",
   "metadata": {},
   "source": [
    "Comparison"
   ]
  },
  {
   "cell_type": "code",
   "execution_count": 19,
   "id": "78036220",
   "metadata": {},
   "outputs": [
    {
     "data": {
      "text/plain": [
       "array([[False,  True, False],\n",
       "       [False, False, False]])"
      ]
     },
     "execution_count": 19,
     "metadata": {},
     "output_type": "execute_result"
    }
   ],
   "source": [
    "# Element wise comparison\n",
    "a == b"
   ]
  },
  {
   "cell_type": "code",
   "execution_count": 20,
   "id": "8a629345",
   "metadata": {},
   "outputs": [
    {
     "data": {
      "text/plain": [
       "array([ True, False, False])"
      ]
     },
     "execution_count": 20,
     "metadata": {},
     "output_type": "execute_result"
    }
   ],
   "source": [
    "# Element wise comparison\n",
    "a < 2"
   ]
  },
  {
   "cell_type": "code",
   "execution_count": 21,
   "id": "e296807d",
   "metadata": {},
   "outputs": [
    {
     "data": {
      "text/plain": [
       "False"
      ]
     },
     "execution_count": 21,
     "metadata": {},
     "output_type": "execute_result"
    }
   ],
   "source": [
    "# Array-wise comparison\n",
    "np.array_equal(a ,b)"
   ]
  },
  {
   "cell_type": "markdown",
   "id": "0a669481",
   "metadata": {},
   "source": [
    "Aggregate Functions"
   ]
  },
  {
   "cell_type": "code",
   "execution_count": 22,
   "id": "23a10784",
   "metadata": {},
   "outputs": [
    {
     "data": {
      "text/plain": [
       "6"
      ]
     },
     "execution_count": 22,
     "metadata": {},
     "output_type": "execute_result"
    }
   ],
   "source": [
    "# Array-wise operation\n",
    "a.sum()"
   ]
  },
  {
   "cell_type": "code",
   "execution_count": 23,
   "id": "b0bb17ac",
   "metadata": {},
   "outputs": [
    {
     "data": {
      "text/plain": [
       "1"
      ]
     },
     "execution_count": 23,
     "metadata": {},
     "output_type": "execute_result"
    }
   ],
   "source": [
    "# Array-wise min value\n",
    "a.min()"
   ]
  },
  {
   "cell_type": "code",
   "execution_count": 24,
   "id": "f5333d0b",
   "metadata": {},
   "outputs": [
    {
     "data": {
      "text/plain": [
       "array([6, 6, 5])"
      ]
     },
     "execution_count": 24,
     "metadata": {},
     "output_type": "execute_result"
    }
   ],
   "source": [
    "# Maximum value of an array row\n",
    "b.max(axis = 0)"
   ]
  },
  {
   "cell_type": "code",
   "execution_count": 25,
   "id": "142f6207",
   "metadata": {},
   "outputs": [
    {
     "data": {
      "text/plain": [
       "array([[ 6,  8, 13],\n",
       "       [ 2,  8, 12]], dtype=int32)"
      ]
     },
     "execution_count": 25,
     "metadata": {},
     "output_type": "execute_result"
    }
   ],
   "source": [
    "# Cumulative sum of the elements\n",
    "b.cumsum(axis=1)"
   ]
  },
  {
   "cell_type": "code",
   "execution_count": 27,
   "id": "0a140c82",
   "metadata": {},
   "outputs": [
    {
     "data": {
      "text/plain": [
       "2.0"
      ]
     },
     "execution_count": 27,
     "metadata": {},
     "output_type": "execute_result"
    }
   ],
   "source": [
    "# Mean\n",
    "a.mean()"
   ]
  },
  {
   "cell_type": "code",
   "execution_count": 29,
   "id": "42d24004",
   "metadata": {},
   "outputs": [
    {
     "data": {
      "text/plain": [
       "1.6749792701868151"
      ]
     },
     "execution_count": 29,
     "metadata": {},
     "output_type": "execute_result"
    }
   ],
   "source": [
    "#Standard deviation\n",
    "np.std(b)"
   ]
  },
  {
   "cell_type": "markdown",
   "id": "d48daeec",
   "metadata": {},
   "source": [
    "## Copying Arrays"
   ]
  },
  {
   "cell_type": "code",
   "execution_count": 30,
   "id": "ac7c500c",
   "metadata": {},
   "outputs": [
    {
     "data": {
      "text/plain": [
       "array([1, 2, 3])"
      ]
     },
     "execution_count": 30,
     "metadata": {},
     "output_type": "execute_result"
    }
   ],
   "source": [
    "#Create a view of the array with the same data\n",
    "h = a.view()\n",
    "h"
   ]
  },
  {
   "cell_type": "code",
   "execution_count": 31,
   "id": "16c8f40f",
   "metadata": {},
   "outputs": [
    {
     "data": {
      "text/plain": [
       "array([1, 2, 3])"
      ]
     },
     "execution_count": 31,
     "metadata": {},
     "output_type": "execute_result"
    }
   ],
   "source": [
    "#Create a copy of the array\n",
    "j = np.copy(a)\n",
    "j"
   ]
  },
  {
   "cell_type": "code",
   "execution_count": 33,
   "id": "6f4f3d2d",
   "metadata": {},
   "outputs": [
    {
     "data": {
      "text/plain": [
       "array([1, 2, 3])"
      ]
     },
     "execution_count": 33,
     "metadata": {},
     "output_type": "execute_result"
    }
   ],
   "source": [
    "#Create a deep copy of the array\n",
    "h = a.copy()\n",
    "h"
   ]
  },
  {
   "cell_type": "code",
   "execution_count": null,
   "id": "ec1ab22a",
   "metadata": {},
   "outputs": [],
   "source": []
  }
 ],
 "metadata": {
  "kernelspec": {
   "display_name": "Python 3",
   "language": "python",
   "name": "python3"
  },
  "language_info": {
   "codemirror_mode": {
    "name": "ipython",
    "version": 3
   },
   "file_extension": ".py",
   "mimetype": "text/x-python",
   "name": "python",
   "nbconvert_exporter": "python",
   "pygments_lexer": "ipython3",
   "version": "3.8.11"
  }
 },
 "nbformat": 4,
 "nbformat_minor": 5
}
