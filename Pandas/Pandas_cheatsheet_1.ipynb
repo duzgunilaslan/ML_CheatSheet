{
 "cells": [
  {
   "cell_type": "code",
   "execution_count": 2,
   "id": "754ccb8a",
   "metadata": {},
   "outputs": [],
   "source": [
    "import pandas as pd\n",
    "import numpy as np"
   ]
  },
  {
   "cell_type": "markdown",
   "id": "7edab3ba",
   "metadata": {},
   "source": [
    "## Object Creation"
   ]
  },
  {
   "cell_type": "code",
   "execution_count": 3,
   "id": "854400c1",
   "metadata": {},
   "outputs": [
    {
     "data": {
      "text/plain": [
       "0        1\n",
       "1        3\n",
       "2        5\n",
       "3        6\n",
       "4    hello\n",
       "5        5\n",
       "6        5\n",
       "7        5\n",
       "dtype: object"
      ]
     },
     "execution_count": 3,
     "metadata": {},
     "output_type": "execute_result"
    }
   ],
   "source": [
    "series = pd.Series([1,3,5,6,\"hello\",5,5,5])\n",
    "series"
   ]
  },
  {
   "cell_type": "markdown",
   "id": "c4be0a22",
   "metadata": {},
   "source": [
    "## Creating a DataFrame by passing a numpy array"
   ]
  },
  {
   "cell_type": "code",
   "execution_count": 4,
   "id": "dfacc75c",
   "metadata": {},
   "outputs": [
    {
     "data": {
      "text/plain": [
       "DatetimeIndex(['2013-01-01', '2013-01-02', '2013-01-03', '2013-01-04',\n",
       "               '2013-01-05', '2013-01-06'],\n",
       "              dtype='datetime64[ns]', freq='D')"
      ]
     },
     "execution_count": 4,
     "metadata": {},
     "output_type": "execute_result"
    }
   ],
   "source": [
    "dates = pd.date_range(\"20130101\", periods=6)\n",
    "dates"
   ]
  },
  {
   "cell_type": "code",
   "execution_count": 5,
   "id": "3897f906",
   "metadata": {},
   "outputs": [
    {
     "data": {
      "text/html": [
       "<div>\n",
       "<style scoped>\n",
       "    .dataframe tbody tr th:only-of-type {\n",
       "        vertical-align: middle;\n",
       "    }\n",
       "\n",
       "    .dataframe tbody tr th {\n",
       "        vertical-align: top;\n",
       "    }\n",
       "\n",
       "    .dataframe thead th {\n",
       "        text-align: right;\n",
       "    }\n",
       "</style>\n",
       "<table border=\"1\" class=\"dataframe\">\n",
       "  <thead>\n",
       "    <tr style=\"text-align: right;\">\n",
       "      <th></th>\n",
       "      <th>First</th>\n",
       "      <th>Second</th>\n",
       "      <th>Third</th>\n",
       "      <th>Fourth</th>\n",
       "    </tr>\n",
       "  </thead>\n",
       "  <tbody>\n",
       "    <tr>\n",
       "      <th>2013-01-01</th>\n",
       "      <td>-1.842115</td>\n",
       "      <td>-0.026576</td>\n",
       "      <td>1.356470</td>\n",
       "      <td>0.121193</td>\n",
       "    </tr>\n",
       "    <tr>\n",
       "      <th>2013-01-02</th>\n",
       "      <td>0.541807</td>\n",
       "      <td>-1.106518</td>\n",
       "      <td>-0.306958</td>\n",
       "      <td>-1.794347</td>\n",
       "    </tr>\n",
       "    <tr>\n",
       "      <th>2013-01-03</th>\n",
       "      <td>0.366455</td>\n",
       "      <td>0.095784</td>\n",
       "      <td>0.262932</td>\n",
       "      <td>2.393236</td>\n",
       "    </tr>\n",
       "    <tr>\n",
       "      <th>2013-01-04</th>\n",
       "      <td>1.028147</td>\n",
       "      <td>-0.275259</td>\n",
       "      <td>0.577324</td>\n",
       "      <td>-0.089614</td>\n",
       "    </tr>\n",
       "    <tr>\n",
       "      <th>2013-01-05</th>\n",
       "      <td>1.443770</td>\n",
       "      <td>0.239411</td>\n",
       "      <td>-1.453753</td>\n",
       "      <td>1.676020</td>\n",
       "    </tr>\n",
       "    <tr>\n",
       "      <th>2013-01-06</th>\n",
       "      <td>-0.676326</td>\n",
       "      <td>1.379437</td>\n",
       "      <td>0.365095</td>\n",
       "      <td>-1.334908</td>\n",
       "    </tr>\n",
       "  </tbody>\n",
       "</table>\n",
       "</div>"
      ],
      "text/plain": [
       "               First    Second     Third    Fourth\n",
       "2013-01-01 -1.842115 -0.026576  1.356470  0.121193\n",
       "2013-01-02  0.541807 -1.106518 -0.306958 -1.794347\n",
       "2013-01-03  0.366455  0.095784  0.262932  2.393236\n",
       "2013-01-04  1.028147 -0.275259  0.577324 -0.089614\n",
       "2013-01-05  1.443770  0.239411 -1.453753  1.676020\n",
       "2013-01-06 -0.676326  1.379437  0.365095 -1.334908"
      ]
     },
     "execution_count": 5,
     "metadata": {},
     "output_type": "execute_result"
    }
   ],
   "source": [
    "dataframe = pd.DataFrame(np.random.randn(6,4), index = dates, columns= [\"First\",\"Second\",\"Third\", \"Fourth\"])\n",
    "dataframe"
   ]
  },
  {
   "cell_type": "markdown",
   "id": "61fe1290",
   "metadata": {},
   "source": [
    "## Creating a DataFrame by passing a dict of objects"
   ]
  },
  {
   "cell_type": "code",
   "execution_count": 6,
   "id": "9f72bcd3",
   "metadata": {},
   "outputs": [
    {
     "data": {
      "text/html": [
       "<div>\n",
       "<style scoped>\n",
       "    .dataframe tbody tr th:only-of-type {\n",
       "        vertical-align: middle;\n",
       "    }\n",
       "\n",
       "    .dataframe tbody tr th {\n",
       "        vertical-align: top;\n",
       "    }\n",
       "\n",
       "    .dataframe thead th {\n",
       "        text-align: right;\n",
       "    }\n",
       "</style>\n",
       "<table border=\"1\" class=\"dataframe\">\n",
       "  <thead>\n",
       "    <tr style=\"text-align: right;\">\n",
       "      <th></th>\n",
       "      <th>A</th>\n",
       "      <th>B</th>\n",
       "      <th>C</th>\n",
       "      <th>D</th>\n",
       "      <th>E</th>\n",
       "      <th>F</th>\n",
       "    </tr>\n",
       "  </thead>\n",
       "  <tbody>\n",
       "    <tr>\n",
       "      <th>0</th>\n",
       "      <td>1</td>\n",
       "      <td>2013-01-02</td>\n",
       "      <td>1.0</td>\n",
       "      <td>3</td>\n",
       "      <td>test</td>\n",
       "      <td>Foo</td>\n",
       "    </tr>\n",
       "    <tr>\n",
       "      <th>1</th>\n",
       "      <td>1</td>\n",
       "      <td>2013-01-02</td>\n",
       "      <td>1.0</td>\n",
       "      <td>3</td>\n",
       "      <td>train</td>\n",
       "      <td>Foo</td>\n",
       "    </tr>\n",
       "    <tr>\n",
       "      <th>2</th>\n",
       "      <td>1</td>\n",
       "      <td>2013-01-02</td>\n",
       "      <td>1.0</td>\n",
       "      <td>3</td>\n",
       "      <td>test</td>\n",
       "      <td>Foo</td>\n",
       "    </tr>\n",
       "    <tr>\n",
       "      <th>3</th>\n",
       "      <td>1</td>\n",
       "      <td>2013-01-02</td>\n",
       "      <td>1.0</td>\n",
       "      <td>3</td>\n",
       "      <td>train</td>\n",
       "      <td>Foo</td>\n",
       "    </tr>\n",
       "  </tbody>\n",
       "</table>\n",
       "</div>"
      ],
      "text/plain": [
       "   A          B    C  D      E    F\n",
       "0  1 2013-01-02  1.0  3   test  Foo\n",
       "1  1 2013-01-02  1.0  3  train  Foo\n",
       "2  1 2013-01-02  1.0  3   test  Foo\n",
       "3  1 2013-01-02  1.0  3  train  Foo"
      ]
     },
     "execution_count": 6,
     "metadata": {},
     "output_type": "execute_result"
    }
   ],
   "source": [
    "dataframe2 = pd.DataFrame({\"A\": 1,\n",
    "                           \"B\": pd.Timestamp(\"20130102\"),\n",
    "                           \"C\": pd.Series(1,index = list(range(4)),dtype = \"float\" ),\n",
    "                           \"D\": np.array([3] * 4, dtype=\"int32\"),\n",
    "                           \"E\": pd.Categorical([\"test\",\"train\",\"test\",\"train\"]),\n",
    "                           \"F\": \"Foo\"})\n",
    "dataframe2"
   ]
  },
  {
   "cell_type": "code",
   "execution_count": 7,
   "id": "5cb0c5b2",
   "metadata": {},
   "outputs": [
    {
     "data": {
      "text/plain": [
       "A             int64\n",
       "B    datetime64[ns]\n",
       "C           float64\n",
       "D             int32\n",
       "E          category\n",
       "F            object\n",
       "dtype: object"
      ]
     },
     "execution_count": 7,
     "metadata": {},
     "output_type": "execute_result"
    }
   ],
   "source": [
    "dataframe2.dtypes"
   ]
  },
  {
   "cell_type": "markdown",
   "id": "b8a41d17",
   "metadata": {},
   "source": [
    "## Viewing Data"
   ]
  },
  {
   "cell_type": "code",
   "execution_count": 8,
   "id": "0797a373",
   "metadata": {},
   "outputs": [
    {
     "data": {
      "text/html": [
       "<div>\n",
       "<style scoped>\n",
       "    .dataframe tbody tr th:only-of-type {\n",
       "        vertical-align: middle;\n",
       "    }\n",
       "\n",
       "    .dataframe tbody tr th {\n",
       "        vertical-align: top;\n",
       "    }\n",
       "\n",
       "    .dataframe thead th {\n",
       "        text-align: right;\n",
       "    }\n",
       "</style>\n",
       "<table border=\"1\" class=\"dataframe\">\n",
       "  <thead>\n",
       "    <tr style=\"text-align: right;\">\n",
       "      <th></th>\n",
       "      <th>First</th>\n",
       "      <th>Second</th>\n",
       "      <th>Third</th>\n",
       "      <th>Fourth</th>\n",
       "    </tr>\n",
       "  </thead>\n",
       "  <tbody>\n",
       "    <tr>\n",
       "      <th>2013-01-01</th>\n",
       "      <td>-1.842115</td>\n",
       "      <td>-0.026576</td>\n",
       "      <td>1.356470</td>\n",
       "      <td>0.121193</td>\n",
       "    </tr>\n",
       "    <tr>\n",
       "      <th>2013-01-02</th>\n",
       "      <td>0.541807</td>\n",
       "      <td>-1.106518</td>\n",
       "      <td>-0.306958</td>\n",
       "      <td>-1.794347</td>\n",
       "    </tr>\n",
       "    <tr>\n",
       "      <th>2013-01-03</th>\n",
       "      <td>0.366455</td>\n",
       "      <td>0.095784</td>\n",
       "      <td>0.262932</td>\n",
       "      <td>2.393236</td>\n",
       "    </tr>\n",
       "    <tr>\n",
       "      <th>2013-01-04</th>\n",
       "      <td>1.028147</td>\n",
       "      <td>-0.275259</td>\n",
       "      <td>0.577324</td>\n",
       "      <td>-0.089614</td>\n",
       "    </tr>\n",
       "    <tr>\n",
       "      <th>2013-01-05</th>\n",
       "      <td>1.443770</td>\n",
       "      <td>0.239411</td>\n",
       "      <td>-1.453753</td>\n",
       "      <td>1.676020</td>\n",
       "    </tr>\n",
       "  </tbody>\n",
       "</table>\n",
       "</div>"
      ],
      "text/plain": [
       "               First    Second     Third    Fourth\n",
       "2013-01-01 -1.842115 -0.026576  1.356470  0.121193\n",
       "2013-01-02  0.541807 -1.106518 -0.306958 -1.794347\n",
       "2013-01-03  0.366455  0.095784  0.262932  2.393236\n",
       "2013-01-04  1.028147 -0.275259  0.577324 -0.089614\n",
       "2013-01-05  1.443770  0.239411 -1.453753  1.676020"
      ]
     },
     "execution_count": 8,
     "metadata": {},
     "output_type": "execute_result"
    }
   ],
   "source": [
    "#See the top & bottom rows of the frame\n",
    "dataframe.head()"
   ]
  },
  {
   "cell_type": "code",
   "execution_count": 9,
   "id": "b38ff2c8",
   "metadata": {},
   "outputs": [
    {
     "data": {
      "text/html": [
       "<div>\n",
       "<style scoped>\n",
       "    .dataframe tbody tr th:only-of-type {\n",
       "        vertical-align: middle;\n",
       "    }\n",
       "\n",
       "    .dataframe tbody tr th {\n",
       "        vertical-align: top;\n",
       "    }\n",
       "\n",
       "    .dataframe thead th {\n",
       "        text-align: right;\n",
       "    }\n",
       "</style>\n",
       "<table border=\"1\" class=\"dataframe\">\n",
       "  <thead>\n",
       "    <tr style=\"text-align: right;\">\n",
       "      <th></th>\n",
       "      <th>First</th>\n",
       "      <th>Second</th>\n",
       "      <th>Third</th>\n",
       "      <th>Fourth</th>\n",
       "    </tr>\n",
       "  </thead>\n",
       "  <tbody>\n",
       "    <tr>\n",
       "      <th>2013-01-02</th>\n",
       "      <td>0.541807</td>\n",
       "      <td>-1.106518</td>\n",
       "      <td>-0.306958</td>\n",
       "      <td>-1.794347</td>\n",
       "    </tr>\n",
       "    <tr>\n",
       "      <th>2013-01-03</th>\n",
       "      <td>0.366455</td>\n",
       "      <td>0.095784</td>\n",
       "      <td>0.262932</td>\n",
       "      <td>2.393236</td>\n",
       "    </tr>\n",
       "    <tr>\n",
       "      <th>2013-01-04</th>\n",
       "      <td>1.028147</td>\n",
       "      <td>-0.275259</td>\n",
       "      <td>0.577324</td>\n",
       "      <td>-0.089614</td>\n",
       "    </tr>\n",
       "    <tr>\n",
       "      <th>2013-01-05</th>\n",
       "      <td>1.443770</td>\n",
       "      <td>0.239411</td>\n",
       "      <td>-1.453753</td>\n",
       "      <td>1.676020</td>\n",
       "    </tr>\n",
       "    <tr>\n",
       "      <th>2013-01-06</th>\n",
       "      <td>-0.676326</td>\n",
       "      <td>1.379437</td>\n",
       "      <td>0.365095</td>\n",
       "      <td>-1.334908</td>\n",
       "    </tr>\n",
       "  </tbody>\n",
       "</table>\n",
       "</div>"
      ],
      "text/plain": [
       "               First    Second     Third    Fourth\n",
       "2013-01-02  0.541807 -1.106518 -0.306958 -1.794347\n",
       "2013-01-03  0.366455  0.095784  0.262932  2.393236\n",
       "2013-01-04  1.028147 -0.275259  0.577324 -0.089614\n",
       "2013-01-05  1.443770  0.239411 -1.453753  1.676020\n",
       "2013-01-06 -0.676326  1.379437  0.365095 -1.334908"
      ]
     },
     "execution_count": 9,
     "metadata": {},
     "output_type": "execute_result"
    }
   ],
   "source": [
    "dataframe.tail()"
   ]
  },
  {
   "cell_type": "code",
   "execution_count": 10,
   "id": "c9336001",
   "metadata": {},
   "outputs": [
    {
     "data": {
      "text/plain": [
       "DatetimeIndex(['2013-01-01', '2013-01-02', '2013-01-03', '2013-01-04',\n",
       "               '2013-01-05', '2013-01-06'],\n",
       "              dtype='datetime64[ns]', freq='D')"
      ]
     },
     "execution_count": 10,
     "metadata": {},
     "output_type": "execute_result"
    }
   ],
   "source": [
    "# Display the index, columns, and the underlying numpy data\n",
    "dataframe.index"
   ]
  },
  {
   "cell_type": "code",
   "execution_count": 11,
   "id": "23bc89c7",
   "metadata": {},
   "outputs": [
    {
     "data": {
      "text/plain": [
       "Index(['First', 'Second', 'Third', 'Fourth'], dtype='object')"
      ]
     },
     "execution_count": 11,
     "metadata": {},
     "output_type": "execute_result"
    }
   ],
   "source": [
    "dataframe.columns"
   ]
  },
  {
   "cell_type": "code",
   "execution_count": 12,
   "id": "aba416b4",
   "metadata": {},
   "outputs": [
    {
     "data": {
      "text/plain": [
       "array([[-1.84211515, -0.02657621,  1.35647009,  0.12119265],\n",
       "       [ 0.54180719, -1.10651827, -0.30695799, -1.79434684],\n",
       "       [ 0.36645459,  0.09578358,  0.26293236,  2.39323609],\n",
       "       [ 1.02814714, -0.27525884,  0.57732375, -0.08961441],\n",
       "       [ 1.44376997,  0.23941063, -1.4537528 ,  1.67601952],\n",
       "       [-0.67632605,  1.37943655,  0.36509543, -1.33490821]])"
      ]
     },
     "execution_count": 12,
     "metadata": {},
     "output_type": "execute_result"
    }
   ],
   "source": [
    "dataframe.values"
   ]
  },
  {
   "cell_type": "code",
   "execution_count": 13,
   "id": "2e2617a5",
   "metadata": {},
   "outputs": [
    {
     "data": {
      "text/html": [
       "<div>\n",
       "<style scoped>\n",
       "    .dataframe tbody tr th:only-of-type {\n",
       "        vertical-align: middle;\n",
       "    }\n",
       "\n",
       "    .dataframe tbody tr th {\n",
       "        vertical-align: top;\n",
       "    }\n",
       "\n",
       "    .dataframe thead th {\n",
       "        text-align: right;\n",
       "    }\n",
       "</style>\n",
       "<table border=\"1\" class=\"dataframe\">\n",
       "  <thead>\n",
       "    <tr style=\"text-align: right;\">\n",
       "      <th></th>\n",
       "      <th>First</th>\n",
       "      <th>Second</th>\n",
       "      <th>Third</th>\n",
       "      <th>Fourth</th>\n",
       "    </tr>\n",
       "  </thead>\n",
       "  <tbody>\n",
       "    <tr>\n",
       "      <th>count</th>\n",
       "      <td>6.000000</td>\n",
       "      <td>6.000000</td>\n",
       "      <td>6.000000</td>\n",
       "      <td>6.000000</td>\n",
       "    </tr>\n",
       "    <tr>\n",
       "      <th>mean</th>\n",
       "      <td>0.143623</td>\n",
       "      <td>0.051046</td>\n",
       "      <td>0.133518</td>\n",
       "      <td>0.161930</td>\n",
       "    </tr>\n",
       "    <tr>\n",
       "      <th>std</th>\n",
       "      <td>1.208010</td>\n",
       "      <td>0.806791</td>\n",
       "      <td>0.946192</td>\n",
       "      <td>1.637295</td>\n",
       "    </tr>\n",
       "    <tr>\n",
       "      <th>min</th>\n",
       "      <td>-1.842115</td>\n",
       "      <td>-1.106518</td>\n",
       "      <td>-1.453753</td>\n",
       "      <td>-1.794347</td>\n",
       "    </tr>\n",
       "    <tr>\n",
       "      <th>25%</th>\n",
       "      <td>-0.415631</td>\n",
       "      <td>-0.213088</td>\n",
       "      <td>-0.164485</td>\n",
       "      <td>-1.023585</td>\n",
       "    </tr>\n",
       "    <tr>\n",
       "      <th>50%</th>\n",
       "      <td>0.454131</td>\n",
       "      <td>0.034604</td>\n",
       "      <td>0.314014</td>\n",
       "      <td>0.015789</td>\n",
       "    </tr>\n",
       "    <tr>\n",
       "      <th>75%</th>\n",
       "      <td>0.906562</td>\n",
       "      <td>0.203504</td>\n",
       "      <td>0.524267</td>\n",
       "      <td>1.287313</td>\n",
       "    </tr>\n",
       "    <tr>\n",
       "      <th>max</th>\n",
       "      <td>1.443770</td>\n",
       "      <td>1.379437</td>\n",
       "      <td>1.356470</td>\n",
       "      <td>2.393236</td>\n",
       "    </tr>\n",
       "  </tbody>\n",
       "</table>\n",
       "</div>"
      ],
      "text/plain": [
       "          First    Second     Third    Fourth\n",
       "count  6.000000  6.000000  6.000000  6.000000\n",
       "mean   0.143623  0.051046  0.133518  0.161930\n",
       "std    1.208010  0.806791  0.946192  1.637295\n",
       "min   -1.842115 -1.106518 -1.453753 -1.794347\n",
       "25%   -0.415631 -0.213088 -0.164485 -1.023585\n",
       "50%    0.454131  0.034604  0.314014  0.015789\n",
       "75%    0.906562  0.203504  0.524267  1.287313\n",
       "max    1.443770  1.379437  1.356470  2.393236"
      ]
     },
     "execution_count": 13,
     "metadata": {},
     "output_type": "execute_result"
    }
   ],
   "source": [
    "# Describe shows a quick statistic summary of your data\n",
    "dataframe.describe()"
   ]
  },
  {
   "cell_type": "code",
   "execution_count": 14,
   "id": "66305abb",
   "metadata": {},
   "outputs": [
    {
     "data": {
      "text/html": [
       "<div>\n",
       "<style scoped>\n",
       "    .dataframe tbody tr th:only-of-type {\n",
       "        vertical-align: middle;\n",
       "    }\n",
       "\n",
       "    .dataframe tbody tr th {\n",
       "        vertical-align: top;\n",
       "    }\n",
       "\n",
       "    .dataframe thead th {\n",
       "        text-align: right;\n",
       "    }\n",
       "</style>\n",
       "<table border=\"1\" class=\"dataframe\">\n",
       "  <thead>\n",
       "    <tr style=\"text-align: right;\">\n",
       "      <th></th>\n",
       "      <th>2013-01-01</th>\n",
       "      <th>2013-01-02</th>\n",
       "      <th>2013-01-03</th>\n",
       "      <th>2013-01-04</th>\n",
       "      <th>2013-01-05</th>\n",
       "      <th>2013-01-06</th>\n",
       "    </tr>\n",
       "  </thead>\n",
       "  <tbody>\n",
       "    <tr>\n",
       "      <th>First</th>\n",
       "      <td>-1.842115</td>\n",
       "      <td>0.541807</td>\n",
       "      <td>0.366455</td>\n",
       "      <td>1.028147</td>\n",
       "      <td>1.443770</td>\n",
       "      <td>-0.676326</td>\n",
       "    </tr>\n",
       "    <tr>\n",
       "      <th>Second</th>\n",
       "      <td>-0.026576</td>\n",
       "      <td>-1.106518</td>\n",
       "      <td>0.095784</td>\n",
       "      <td>-0.275259</td>\n",
       "      <td>0.239411</td>\n",
       "      <td>1.379437</td>\n",
       "    </tr>\n",
       "    <tr>\n",
       "      <th>Third</th>\n",
       "      <td>1.356470</td>\n",
       "      <td>-0.306958</td>\n",
       "      <td>0.262932</td>\n",
       "      <td>0.577324</td>\n",
       "      <td>-1.453753</td>\n",
       "      <td>0.365095</td>\n",
       "    </tr>\n",
       "    <tr>\n",
       "      <th>Fourth</th>\n",
       "      <td>0.121193</td>\n",
       "      <td>-1.794347</td>\n",
       "      <td>2.393236</td>\n",
       "      <td>-0.089614</td>\n",
       "      <td>1.676020</td>\n",
       "      <td>-1.334908</td>\n",
       "    </tr>\n",
       "  </tbody>\n",
       "</table>\n",
       "</div>"
      ],
      "text/plain": [
       "        2013-01-01  2013-01-02  2013-01-03  2013-01-04  2013-01-05  2013-01-06\n",
       "First    -1.842115    0.541807    0.366455    1.028147    1.443770   -0.676326\n",
       "Second   -0.026576   -1.106518    0.095784   -0.275259    0.239411    1.379437\n",
       "Third     1.356470   -0.306958    0.262932    0.577324   -1.453753    0.365095\n",
       "Fourth    0.121193   -1.794347    2.393236   -0.089614    1.676020   -1.334908"
      ]
     },
     "execution_count": 14,
     "metadata": {},
     "output_type": "execute_result"
    }
   ],
   "source": [
    "# Transposing your data\n",
    "dataframe.T"
   ]
  },
  {
   "cell_type": "code",
   "execution_count": 15,
   "id": "519e72cb",
   "metadata": {},
   "outputs": [
    {
     "data": {
      "text/html": [
       "<div>\n",
       "<style scoped>\n",
       "    .dataframe tbody tr th:only-of-type {\n",
       "        vertical-align: middle;\n",
       "    }\n",
       "\n",
       "    .dataframe tbody tr th {\n",
       "        vertical-align: top;\n",
       "    }\n",
       "\n",
       "    .dataframe thead th {\n",
       "        text-align: right;\n",
       "    }\n",
       "</style>\n",
       "<table border=\"1\" class=\"dataframe\">\n",
       "  <thead>\n",
       "    <tr style=\"text-align: right;\">\n",
       "      <th></th>\n",
       "      <th>Third</th>\n",
       "      <th>Second</th>\n",
       "      <th>Fourth</th>\n",
       "      <th>First</th>\n",
       "    </tr>\n",
       "  </thead>\n",
       "  <tbody>\n",
       "    <tr>\n",
       "      <th>2013-01-01</th>\n",
       "      <td>1.356470</td>\n",
       "      <td>-0.026576</td>\n",
       "      <td>0.121193</td>\n",
       "      <td>-1.842115</td>\n",
       "    </tr>\n",
       "    <tr>\n",
       "      <th>2013-01-02</th>\n",
       "      <td>-0.306958</td>\n",
       "      <td>-1.106518</td>\n",
       "      <td>-1.794347</td>\n",
       "      <td>0.541807</td>\n",
       "    </tr>\n",
       "    <tr>\n",
       "      <th>2013-01-03</th>\n",
       "      <td>0.262932</td>\n",
       "      <td>0.095784</td>\n",
       "      <td>2.393236</td>\n",
       "      <td>0.366455</td>\n",
       "    </tr>\n",
       "    <tr>\n",
       "      <th>2013-01-04</th>\n",
       "      <td>0.577324</td>\n",
       "      <td>-0.275259</td>\n",
       "      <td>-0.089614</td>\n",
       "      <td>1.028147</td>\n",
       "    </tr>\n",
       "    <tr>\n",
       "      <th>2013-01-05</th>\n",
       "      <td>-1.453753</td>\n",
       "      <td>0.239411</td>\n",
       "      <td>1.676020</td>\n",
       "      <td>1.443770</td>\n",
       "    </tr>\n",
       "    <tr>\n",
       "      <th>2013-01-06</th>\n",
       "      <td>0.365095</td>\n",
       "      <td>1.379437</td>\n",
       "      <td>-1.334908</td>\n",
       "      <td>-0.676326</td>\n",
       "    </tr>\n",
       "  </tbody>\n",
       "</table>\n",
       "</div>"
      ],
      "text/plain": [
       "               Third    Second    Fourth     First\n",
       "2013-01-01  1.356470 -0.026576  0.121193 -1.842115\n",
       "2013-01-02 -0.306958 -1.106518 -1.794347  0.541807\n",
       "2013-01-03  0.262932  0.095784  2.393236  0.366455\n",
       "2013-01-04  0.577324 -0.275259 -0.089614  1.028147\n",
       "2013-01-05 -1.453753  0.239411  1.676020  1.443770\n",
       "2013-01-06  0.365095  1.379437 -1.334908 -0.676326"
      ]
     },
     "execution_count": 15,
     "metadata": {},
     "output_type": "execute_result"
    }
   ],
   "source": [
    "# Sorting by an axis\n",
    "dataframe.sort_index(axis = 1, ascending= False)"
   ]
  },
  {
   "cell_type": "code",
   "execution_count": 16,
   "id": "f6594a90",
   "metadata": {},
   "outputs": [
    {
     "data": {
      "text/html": [
       "<div>\n",
       "<style scoped>\n",
       "    .dataframe tbody tr th:only-of-type {\n",
       "        vertical-align: middle;\n",
       "    }\n",
       "\n",
       "    .dataframe tbody tr th {\n",
       "        vertical-align: top;\n",
       "    }\n",
       "\n",
       "    .dataframe thead th {\n",
       "        text-align: right;\n",
       "    }\n",
       "</style>\n",
       "<table border=\"1\" class=\"dataframe\">\n",
       "  <thead>\n",
       "    <tr style=\"text-align: right;\">\n",
       "      <th></th>\n",
       "      <th>First</th>\n",
       "      <th>Second</th>\n",
       "      <th>Third</th>\n",
       "      <th>Fourth</th>\n",
       "    </tr>\n",
       "  </thead>\n",
       "  <tbody>\n",
       "    <tr>\n",
       "      <th>2013-01-02</th>\n",
       "      <td>0.541807</td>\n",
       "      <td>-1.106518</td>\n",
       "      <td>-0.306958</td>\n",
       "      <td>-1.794347</td>\n",
       "    </tr>\n",
       "    <tr>\n",
       "      <th>2013-01-04</th>\n",
       "      <td>1.028147</td>\n",
       "      <td>-0.275259</td>\n",
       "      <td>0.577324</td>\n",
       "      <td>-0.089614</td>\n",
       "    </tr>\n",
       "    <tr>\n",
       "      <th>2013-01-01</th>\n",
       "      <td>-1.842115</td>\n",
       "      <td>-0.026576</td>\n",
       "      <td>1.356470</td>\n",
       "      <td>0.121193</td>\n",
       "    </tr>\n",
       "    <tr>\n",
       "      <th>2013-01-03</th>\n",
       "      <td>0.366455</td>\n",
       "      <td>0.095784</td>\n",
       "      <td>0.262932</td>\n",
       "      <td>2.393236</td>\n",
       "    </tr>\n",
       "    <tr>\n",
       "      <th>2013-01-05</th>\n",
       "      <td>1.443770</td>\n",
       "      <td>0.239411</td>\n",
       "      <td>-1.453753</td>\n",
       "      <td>1.676020</td>\n",
       "    </tr>\n",
       "    <tr>\n",
       "      <th>2013-01-06</th>\n",
       "      <td>-0.676326</td>\n",
       "      <td>1.379437</td>\n",
       "      <td>0.365095</td>\n",
       "      <td>-1.334908</td>\n",
       "    </tr>\n",
       "  </tbody>\n",
       "</table>\n",
       "</div>"
      ],
      "text/plain": [
       "               First    Second     Third    Fourth\n",
       "2013-01-02  0.541807 -1.106518 -0.306958 -1.794347\n",
       "2013-01-04  1.028147 -0.275259  0.577324 -0.089614\n",
       "2013-01-01 -1.842115 -0.026576  1.356470  0.121193\n",
       "2013-01-03  0.366455  0.095784  0.262932  2.393236\n",
       "2013-01-05  1.443770  0.239411 -1.453753  1.676020\n",
       "2013-01-06 -0.676326  1.379437  0.365095 -1.334908"
      ]
     },
     "execution_count": 16,
     "metadata": {},
     "output_type": "execute_result"
    }
   ],
   "source": [
    "# Sorting by values\n",
    "dataframe.sort_values(by = \"Second\")"
   ]
  },
  {
   "cell_type": "markdown",
   "id": "b7feca61",
   "metadata": {},
   "source": [
    "## Selection"
   ]
  },
  {
   "cell_type": "code",
   "execution_count": 17,
   "id": "22bc4c46",
   "metadata": {},
   "outputs": [],
   "source": [
    "# .at, .iat, .loc, .iloc and .ix"
   ]
  },
  {
   "cell_type": "code",
   "execution_count": 18,
   "id": "d4989985",
   "metadata": {},
   "outputs": [
    {
     "data": {
      "text/plain": [
       "2013-01-01   -1.842115\n",
       "2013-01-02    0.541807\n",
       "2013-01-03    0.366455\n",
       "2013-01-04    1.028147\n",
       "2013-01-05    1.443770\n",
       "2013-01-06   -0.676326\n",
       "Freq: D, Name: First, dtype: float64"
      ]
     },
     "execution_count": 18,
     "metadata": {},
     "output_type": "execute_result"
    }
   ],
   "source": [
    "# Selecting a single column, which yields a Series, equivalent to df.A\n",
    "dataframe[\"First\"]"
   ]
  },
  {
   "cell_type": "code",
   "execution_count": 19,
   "id": "276de024",
   "metadata": {},
   "outputs": [
    {
     "data": {
      "text/html": [
       "<div>\n",
       "<style scoped>\n",
       "    .dataframe tbody tr th:only-of-type {\n",
       "        vertical-align: middle;\n",
       "    }\n",
       "\n",
       "    .dataframe tbody tr th {\n",
       "        vertical-align: top;\n",
       "    }\n",
       "\n",
       "    .dataframe thead th {\n",
       "        text-align: right;\n",
       "    }\n",
       "</style>\n",
       "<table border=\"1\" class=\"dataframe\">\n",
       "  <thead>\n",
       "    <tr style=\"text-align: right;\">\n",
       "      <th></th>\n",
       "      <th>First</th>\n",
       "      <th>Second</th>\n",
       "      <th>Third</th>\n",
       "      <th>Fourth</th>\n",
       "    </tr>\n",
       "  </thead>\n",
       "  <tbody>\n",
       "    <tr>\n",
       "      <th>2013-01-01</th>\n",
       "      <td>-1.842115</td>\n",
       "      <td>-0.026576</td>\n",
       "      <td>1.356470</td>\n",
       "      <td>0.121193</td>\n",
       "    </tr>\n",
       "    <tr>\n",
       "      <th>2013-01-02</th>\n",
       "      <td>0.541807</td>\n",
       "      <td>-1.106518</td>\n",
       "      <td>-0.306958</td>\n",
       "      <td>-1.794347</td>\n",
       "    </tr>\n",
       "    <tr>\n",
       "      <th>2013-01-03</th>\n",
       "      <td>0.366455</td>\n",
       "      <td>0.095784</td>\n",
       "      <td>0.262932</td>\n",
       "      <td>2.393236</td>\n",
       "    </tr>\n",
       "  </tbody>\n",
       "</table>\n",
       "</div>"
      ],
      "text/plain": [
       "               First    Second     Third    Fourth\n",
       "2013-01-01 -1.842115 -0.026576  1.356470  0.121193\n",
       "2013-01-02  0.541807 -1.106518 -0.306958 -1.794347\n",
       "2013-01-03  0.366455  0.095784  0.262932  2.393236"
      ]
     },
     "execution_count": 19,
     "metadata": {},
     "output_type": "execute_result"
    }
   ],
   "source": [
    "# slices the rows\n",
    "dataframe[0:3]"
   ]
  },
  {
   "cell_type": "code",
   "execution_count": 20,
   "id": "8d856589",
   "metadata": {},
   "outputs": [
    {
     "data": {
      "text/plain": [
       "First    -1.842115\n",
       "Second   -0.026576\n",
       "Third     1.356470\n",
       "Fourth    0.121193\n",
       "Name: 2013-01-01 00:00:00, dtype: float64"
      ]
     },
     "execution_count": 20,
     "metadata": {},
     "output_type": "execute_result"
    }
   ],
   "source": [
    "# Selection by Label\n",
    "dataframe.loc[dates[0]]"
   ]
  },
  {
   "cell_type": "code",
   "execution_count": 21,
   "id": "a5c277e3",
   "metadata": {},
   "outputs": [
    {
     "data": {
      "text/html": [
       "<div>\n",
       "<style scoped>\n",
       "    .dataframe tbody tr th:only-of-type {\n",
       "        vertical-align: middle;\n",
       "    }\n",
       "\n",
       "    .dataframe tbody tr th {\n",
       "        vertical-align: top;\n",
       "    }\n",
       "\n",
       "    .dataframe thead th {\n",
       "        text-align: right;\n",
       "    }\n",
       "</style>\n",
       "<table border=\"1\" class=\"dataframe\">\n",
       "  <thead>\n",
       "    <tr style=\"text-align: right;\">\n",
       "      <th></th>\n",
       "      <th>First</th>\n",
       "      <th>Second</th>\n",
       "    </tr>\n",
       "  </thead>\n",
       "  <tbody>\n",
       "    <tr>\n",
       "      <th>2013-01-01</th>\n",
       "      <td>-1.842115</td>\n",
       "      <td>-0.026576</td>\n",
       "    </tr>\n",
       "    <tr>\n",
       "      <th>2013-01-02</th>\n",
       "      <td>0.541807</td>\n",
       "      <td>-1.106518</td>\n",
       "    </tr>\n",
       "    <tr>\n",
       "      <th>2013-01-03</th>\n",
       "      <td>0.366455</td>\n",
       "      <td>0.095784</td>\n",
       "    </tr>\n",
       "    <tr>\n",
       "      <th>2013-01-04</th>\n",
       "      <td>1.028147</td>\n",
       "      <td>-0.275259</td>\n",
       "    </tr>\n",
       "    <tr>\n",
       "      <th>2013-01-05</th>\n",
       "      <td>1.443770</td>\n",
       "      <td>0.239411</td>\n",
       "    </tr>\n",
       "    <tr>\n",
       "      <th>2013-01-06</th>\n",
       "      <td>-0.676326</td>\n",
       "      <td>1.379437</td>\n",
       "    </tr>\n",
       "  </tbody>\n",
       "</table>\n",
       "</div>"
      ],
      "text/plain": [
       "               First    Second\n",
       "2013-01-01 -1.842115 -0.026576\n",
       "2013-01-02  0.541807 -1.106518\n",
       "2013-01-03  0.366455  0.095784\n",
       "2013-01-04  1.028147 -0.275259\n",
       "2013-01-05  1.443770  0.239411\n",
       "2013-01-06 -0.676326  1.379437"
      ]
     },
     "execution_count": 21,
     "metadata": {},
     "output_type": "execute_result"
    }
   ],
   "source": [
    "# Selecting on a multiaxis by label\n",
    "dataframe.loc[:,[\"First\",\"Second\"]]"
   ]
  },
  {
   "cell_type": "code",
   "execution_count": 22,
   "id": "f3a04bd0",
   "metadata": {},
   "outputs": [
    {
     "data": {
      "text/html": [
       "<div>\n",
       "<style scoped>\n",
       "    .dataframe tbody tr th:only-of-type {\n",
       "        vertical-align: middle;\n",
       "    }\n",
       "\n",
       "    .dataframe tbody tr th {\n",
       "        vertical-align: top;\n",
       "    }\n",
       "\n",
       "    .dataframe thead th {\n",
       "        text-align: right;\n",
       "    }\n",
       "</style>\n",
       "<table border=\"1\" class=\"dataframe\">\n",
       "  <thead>\n",
       "    <tr style=\"text-align: right;\">\n",
       "      <th></th>\n",
       "      <th>First</th>\n",
       "      <th>Second</th>\n",
       "    </tr>\n",
       "  </thead>\n",
       "  <tbody>\n",
       "    <tr>\n",
       "      <th>2013-01-01</th>\n",
       "      <td>-1.842115</td>\n",
       "      <td>-0.026576</td>\n",
       "    </tr>\n",
       "    <tr>\n",
       "      <th>2013-01-02</th>\n",
       "      <td>0.541807</td>\n",
       "      <td>-1.106518</td>\n",
       "    </tr>\n",
       "    <tr>\n",
       "      <th>2013-01-03</th>\n",
       "      <td>0.366455</td>\n",
       "      <td>0.095784</td>\n",
       "    </tr>\n",
       "    <tr>\n",
       "      <th>2013-01-04</th>\n",
       "      <td>1.028147</td>\n",
       "      <td>-0.275259</td>\n",
       "    </tr>\n",
       "  </tbody>\n",
       "</table>\n",
       "</div>"
      ],
      "text/plain": [
       "               First    Second\n",
       "2013-01-01 -1.842115 -0.026576\n",
       "2013-01-02  0.541807 -1.106518\n",
       "2013-01-03  0.366455  0.095784\n",
       "2013-01-04  1.028147 -0.275259"
      ]
     },
     "execution_count": 22,
     "metadata": {},
     "output_type": "execute_result"
    }
   ],
   "source": [
    "# label slicing, both endpoints are included\n",
    "dataframe.loc[\"2013-01-01\":\"2013-01-04\",[\"First\",\"Second\"]]"
   ]
  },
  {
   "cell_type": "code",
   "execution_count": 23,
   "id": "0a1f1b96",
   "metadata": {},
   "outputs": [
    {
     "data": {
      "text/plain": [
       "-1.8421151511996043"
      ]
     },
     "execution_count": 23,
     "metadata": {},
     "output_type": "execute_result"
    }
   ],
   "source": [
    "# For getting a scalar value\n",
    "dataframe.loc[\"2013-01-01\",\"First\"]"
   ]
  },
  {
   "cell_type": "code",
   "execution_count": 24,
   "id": "85242875",
   "metadata": {},
   "outputs": [
    {
     "data": {
      "text/plain": [
       "-1.8421151511996043"
      ]
     },
     "execution_count": 24,
     "metadata": {},
     "output_type": "execute_result"
    }
   ],
   "source": [
    "# For getting fast access to a scalar (equiv to the prior method)\n",
    "dataframe.at[\"2013-01-01\",\"First\"]"
   ]
  },
  {
   "cell_type": "code",
   "execution_count": 25,
   "id": "4c8756b6",
   "metadata": {},
   "outputs": [],
   "source": [
    "# Selection by Position"
   ]
  },
  {
   "cell_type": "code",
   "execution_count": 26,
   "id": "515a9c51",
   "metadata": {},
   "outputs": [
    {
     "data": {
      "text/plain": [
       "First     1.028147\n",
       "Second   -0.275259\n",
       "Third     0.577324\n",
       "Fourth   -0.089614\n",
       "Name: 2013-01-04 00:00:00, dtype: float64"
      ]
     },
     "execution_count": 26,
     "metadata": {},
     "output_type": "execute_result"
    }
   ],
   "source": [
    "dataframe.iloc[3]"
   ]
  },
  {
   "cell_type": "code",
   "execution_count": 27,
   "id": "8eaefdea",
   "metadata": {},
   "outputs": [
    {
     "data": {
      "text/html": [
       "<div>\n",
       "<style scoped>\n",
       "    .dataframe tbody tr th:only-of-type {\n",
       "        vertical-align: middle;\n",
       "    }\n",
       "\n",
       "    .dataframe tbody tr th {\n",
       "        vertical-align: top;\n",
       "    }\n",
       "\n",
       "    .dataframe thead th {\n",
       "        text-align: right;\n",
       "    }\n",
       "</style>\n",
       "<table border=\"1\" class=\"dataframe\">\n",
       "  <thead>\n",
       "    <tr style=\"text-align: right;\">\n",
       "      <th></th>\n",
       "      <th>First</th>\n",
       "      <th>Second</th>\n",
       "    </tr>\n",
       "  </thead>\n",
       "  <tbody>\n",
       "    <tr>\n",
       "      <th>2013-01-04</th>\n",
       "      <td>1.028147</td>\n",
       "      <td>-0.275259</td>\n",
       "    </tr>\n",
       "    <tr>\n",
       "      <th>2013-01-05</th>\n",
       "      <td>1.443770</td>\n",
       "      <td>0.239411</td>\n",
       "    </tr>\n",
       "  </tbody>\n",
       "</table>\n",
       "</div>"
      ],
      "text/plain": [
       "               First    Second\n",
       "2013-01-04  1.028147 -0.275259\n",
       "2013-01-05  1.443770  0.239411"
      ]
     },
     "execution_count": 27,
     "metadata": {},
     "output_type": "execute_result"
    }
   ],
   "source": [
    "dataframe.iloc[3:5,0:2]"
   ]
  },
  {
   "cell_type": "code",
   "execution_count": 28,
   "id": "cf398901",
   "metadata": {},
   "outputs": [
    {
     "data": {
      "text/html": [
       "<div>\n",
       "<style scoped>\n",
       "    .dataframe tbody tr th:only-of-type {\n",
       "        vertical-align: middle;\n",
       "    }\n",
       "\n",
       "    .dataframe tbody tr th {\n",
       "        vertical-align: top;\n",
       "    }\n",
       "\n",
       "    .dataframe thead th {\n",
       "        text-align: right;\n",
       "    }\n",
       "</style>\n",
       "<table border=\"1\" class=\"dataframe\">\n",
       "  <thead>\n",
       "    <tr style=\"text-align: right;\">\n",
       "      <th></th>\n",
       "      <th>First</th>\n",
       "      <th>Third</th>\n",
       "    </tr>\n",
       "  </thead>\n",
       "  <tbody>\n",
       "    <tr>\n",
       "      <th>2013-01-02</th>\n",
       "      <td>0.541807</td>\n",
       "      <td>-0.306958</td>\n",
       "    </tr>\n",
       "    <tr>\n",
       "      <th>2013-01-03</th>\n",
       "      <td>0.366455</td>\n",
       "      <td>0.262932</td>\n",
       "    </tr>\n",
       "    <tr>\n",
       "      <th>2013-01-05</th>\n",
       "      <td>1.443770</td>\n",
       "      <td>-1.453753</td>\n",
       "    </tr>\n",
       "  </tbody>\n",
       "</table>\n",
       "</div>"
      ],
      "text/plain": [
       "               First     Third\n",
       "2013-01-02  0.541807 -0.306958\n",
       "2013-01-03  0.366455  0.262932\n",
       "2013-01-05  1.443770 -1.453753"
      ]
     },
     "execution_count": 28,
     "metadata": {},
     "output_type": "execute_result"
    }
   ],
   "source": [
    "dataframe.iloc[[1,2,4],[0,2]]"
   ]
  },
  {
   "cell_type": "code",
   "execution_count": 29,
   "id": "20203b19",
   "metadata": {},
   "outputs": [
    {
     "data": {
      "text/html": [
       "<div>\n",
       "<style scoped>\n",
       "    .dataframe tbody tr th:only-of-type {\n",
       "        vertical-align: middle;\n",
       "    }\n",
       "\n",
       "    .dataframe tbody tr th {\n",
       "        vertical-align: top;\n",
       "    }\n",
       "\n",
       "    .dataframe thead th {\n",
       "        text-align: right;\n",
       "    }\n",
       "</style>\n",
       "<table border=\"1\" class=\"dataframe\">\n",
       "  <thead>\n",
       "    <tr style=\"text-align: right;\">\n",
       "      <th></th>\n",
       "      <th>First</th>\n",
       "      <th>Second</th>\n",
       "      <th>Third</th>\n",
       "      <th>Fourth</th>\n",
       "    </tr>\n",
       "  </thead>\n",
       "  <tbody>\n",
       "    <tr>\n",
       "      <th>2013-01-02</th>\n",
       "      <td>0.541807</td>\n",
       "      <td>-1.106518</td>\n",
       "      <td>-0.306958</td>\n",
       "      <td>-1.794347</td>\n",
       "    </tr>\n",
       "    <tr>\n",
       "      <th>2013-01-03</th>\n",
       "      <td>0.366455</td>\n",
       "      <td>0.095784</td>\n",
       "      <td>0.262932</td>\n",
       "      <td>2.393236</td>\n",
       "    </tr>\n",
       "  </tbody>\n",
       "</table>\n",
       "</div>"
      ],
      "text/plain": [
       "               First    Second     Third    Fourth\n",
       "2013-01-02  0.541807 -1.106518 -0.306958 -1.794347\n",
       "2013-01-03  0.366455  0.095784  0.262932  2.393236"
      ]
     },
     "execution_count": 29,
     "metadata": {},
     "output_type": "execute_result"
    }
   ],
   "source": [
    "# For slicing rows explicitly\n",
    "dataframe.iloc[1:3,:]"
   ]
  },
  {
   "cell_type": "code",
   "execution_count": 30,
   "id": "c50cee42",
   "metadata": {},
   "outputs": [
    {
     "data": {
      "text/plain": [
       "-1.1065182724598308"
      ]
     },
     "execution_count": 30,
     "metadata": {},
     "output_type": "execute_result"
    }
   ],
   "source": [
    "# For getting a value explicitly\n",
    "dataframe.iloc[1,1]"
   ]
  },
  {
   "cell_type": "code",
   "execution_count": 31,
   "id": "26b98407",
   "metadata": {},
   "outputs": [],
   "source": [
    "# Boolean Indexing"
   ]
  },
  {
   "cell_type": "code",
   "execution_count": 39,
   "id": "18ea0e49",
   "metadata": {},
   "outputs": [
    {
     "data": {
      "text/html": [
       "<div>\n",
       "<style scoped>\n",
       "    .dataframe tbody tr th:only-of-type {\n",
       "        vertical-align: middle;\n",
       "    }\n",
       "\n",
       "    .dataframe tbody tr th {\n",
       "        vertical-align: top;\n",
       "    }\n",
       "\n",
       "    .dataframe thead th {\n",
       "        text-align: right;\n",
       "    }\n",
       "</style>\n",
       "<table border=\"1\" class=\"dataframe\">\n",
       "  <thead>\n",
       "    <tr style=\"text-align: right;\">\n",
       "      <th></th>\n",
       "      <th>First</th>\n",
       "      <th>Second</th>\n",
       "      <th>Third</th>\n",
       "      <th>Fourth</th>\n",
       "    </tr>\n",
       "  </thead>\n",
       "  <tbody>\n",
       "    <tr>\n",
       "      <th>2013-01-01</th>\n",
       "      <td>NaN</td>\n",
       "      <td>NaN</td>\n",
       "      <td>1.356470</td>\n",
       "      <td>0.121193</td>\n",
       "    </tr>\n",
       "    <tr>\n",
       "      <th>2013-01-02</th>\n",
       "      <td>0.541807</td>\n",
       "      <td>NaN</td>\n",
       "      <td>NaN</td>\n",
       "      <td>NaN</td>\n",
       "    </tr>\n",
       "    <tr>\n",
       "      <th>2013-01-03</th>\n",
       "      <td>0.366455</td>\n",
       "      <td>0.095784</td>\n",
       "      <td>0.262932</td>\n",
       "      <td>2.393236</td>\n",
       "    </tr>\n",
       "    <tr>\n",
       "      <th>2013-01-04</th>\n",
       "      <td>1.028147</td>\n",
       "      <td>NaN</td>\n",
       "      <td>0.577324</td>\n",
       "      <td>NaN</td>\n",
       "    </tr>\n",
       "    <tr>\n",
       "      <th>2013-01-05</th>\n",
       "      <td>1.443770</td>\n",
       "      <td>0.239411</td>\n",
       "      <td>NaN</td>\n",
       "      <td>1.676020</td>\n",
       "    </tr>\n",
       "    <tr>\n",
       "      <th>2013-01-06</th>\n",
       "      <td>NaN</td>\n",
       "      <td>1.379437</td>\n",
       "      <td>0.365095</td>\n",
       "      <td>NaN</td>\n",
       "    </tr>\n",
       "  </tbody>\n",
       "</table>\n",
       "</div>"
      ],
      "text/plain": [
       "               First    Second     Third    Fourth\n",
       "2013-01-01       NaN       NaN  1.356470  0.121193\n",
       "2013-01-02  0.541807       NaN       NaN       NaN\n",
       "2013-01-03  0.366455  0.095784  0.262932  2.393236\n",
       "2013-01-04  1.028147       NaN  0.577324       NaN\n",
       "2013-01-05  1.443770  0.239411       NaN  1.676020\n",
       "2013-01-06       NaN  1.379437  0.365095       NaN"
      ]
     },
     "execution_count": 39,
     "metadata": {},
     "output_type": "execute_result"
    }
   ],
   "source": [
    "dataframe[dataframe > 0]"
   ]
  },
  {
   "cell_type": "code",
   "execution_count": 41,
   "id": "a5e14cd1",
   "metadata": {},
   "outputs": [
    {
     "data": {
      "text/html": [
       "<div>\n",
       "<style scoped>\n",
       "    .dataframe tbody tr th:only-of-type {\n",
       "        vertical-align: middle;\n",
       "    }\n",
       "\n",
       "    .dataframe tbody tr th {\n",
       "        vertical-align: top;\n",
       "    }\n",
       "\n",
       "    .dataframe thead th {\n",
       "        text-align: right;\n",
       "    }\n",
       "</style>\n",
       "<table border=\"1\" class=\"dataframe\">\n",
       "  <thead>\n",
       "    <tr style=\"text-align: right;\">\n",
       "      <th></th>\n",
       "      <th>First</th>\n",
       "      <th>Second</th>\n",
       "      <th>Third</th>\n",
       "      <th>Fourth</th>\n",
       "      <th>Fifth</th>\n",
       "    </tr>\n",
       "  </thead>\n",
       "  <tbody>\n",
       "    <tr>\n",
       "      <th>2013-01-01</th>\n",
       "      <td>-1.842115</td>\n",
       "      <td>-0.026576</td>\n",
       "      <td>1.356470</td>\n",
       "      <td>0.121193</td>\n",
       "      <td>one</td>\n",
       "    </tr>\n",
       "    <tr>\n",
       "      <th>2013-01-02</th>\n",
       "      <td>0.541807</td>\n",
       "      <td>-1.106518</td>\n",
       "      <td>-0.306958</td>\n",
       "      <td>-1.794347</td>\n",
       "      <td>one</td>\n",
       "    </tr>\n",
       "    <tr>\n",
       "      <th>2013-01-03</th>\n",
       "      <td>0.366455</td>\n",
       "      <td>0.095784</td>\n",
       "      <td>0.262932</td>\n",
       "      <td>2.393236</td>\n",
       "      <td>two</td>\n",
       "    </tr>\n",
       "    <tr>\n",
       "      <th>2013-01-04</th>\n",
       "      <td>1.028147</td>\n",
       "      <td>-0.275259</td>\n",
       "      <td>0.577324</td>\n",
       "      <td>-0.089614</td>\n",
       "      <td>three</td>\n",
       "    </tr>\n",
       "    <tr>\n",
       "      <th>2013-01-05</th>\n",
       "      <td>1.443770</td>\n",
       "      <td>0.239411</td>\n",
       "      <td>-1.453753</td>\n",
       "      <td>1.676020</td>\n",
       "      <td>four</td>\n",
       "    </tr>\n",
       "    <tr>\n",
       "      <th>2013-01-06</th>\n",
       "      <td>-0.676326</td>\n",
       "      <td>1.379437</td>\n",
       "      <td>0.365095</td>\n",
       "      <td>-1.334908</td>\n",
       "      <td>three</td>\n",
       "    </tr>\n",
       "  </tbody>\n",
       "</table>\n",
       "</div>"
      ],
      "text/plain": [
       "               First    Second     Third    Fourth  Fifth\n",
       "2013-01-01 -1.842115 -0.026576  1.356470  0.121193    one\n",
       "2013-01-02  0.541807 -1.106518 -0.306958 -1.794347    one\n",
       "2013-01-03  0.366455  0.095784  0.262932  2.393236    two\n",
       "2013-01-04  1.028147 -0.275259  0.577324 -0.089614  three\n",
       "2013-01-05  1.443770  0.239411 -1.453753  1.676020   four\n",
       "2013-01-06 -0.676326  1.379437  0.365095 -1.334908  three"
      ]
     },
     "execution_count": 41,
     "metadata": {},
     "output_type": "execute_result"
    }
   ],
   "source": [
    "# Using the isin() method for filtering:\n",
    "dataframe2 = dataframe.copy()\n",
    "dataframe2[\"Fifth\"] = [\"one\",\"one\",\"two\",\"three\",\"four\",\"three\"]\n",
    "dataframe2"
   ]
  },
  {
   "cell_type": "code",
   "execution_count": 43,
   "id": "6be3360b",
   "metadata": {},
   "outputs": [
    {
     "data": {
      "text/html": [
       "<div>\n",
       "<style scoped>\n",
       "    .dataframe tbody tr th:only-of-type {\n",
       "        vertical-align: middle;\n",
       "    }\n",
       "\n",
       "    .dataframe tbody tr th {\n",
       "        vertical-align: top;\n",
       "    }\n",
       "\n",
       "    .dataframe thead th {\n",
       "        text-align: right;\n",
       "    }\n",
       "</style>\n",
       "<table border=\"1\" class=\"dataframe\">\n",
       "  <thead>\n",
       "    <tr style=\"text-align: right;\">\n",
       "      <th></th>\n",
       "      <th>First</th>\n",
       "      <th>Second</th>\n",
       "      <th>Third</th>\n",
       "      <th>Fourth</th>\n",
       "      <th>Fifth</th>\n",
       "    </tr>\n",
       "  </thead>\n",
       "  <tbody>\n",
       "    <tr>\n",
       "      <th>2013-01-03</th>\n",
       "      <td>0.366455</td>\n",
       "      <td>0.095784</td>\n",
       "      <td>0.262932</td>\n",
       "      <td>2.393236</td>\n",
       "      <td>two</td>\n",
       "    </tr>\n",
       "    <tr>\n",
       "      <th>2013-01-05</th>\n",
       "      <td>1.443770</td>\n",
       "      <td>0.239411</td>\n",
       "      <td>-1.453753</td>\n",
       "      <td>1.676020</td>\n",
       "      <td>four</td>\n",
       "    </tr>\n",
       "  </tbody>\n",
       "</table>\n",
       "</div>"
      ],
      "text/plain": [
       "               First    Second     Third    Fourth Fifth\n",
       "2013-01-03  0.366455  0.095784  0.262932  2.393236   two\n",
       "2013-01-05  1.443770  0.239411 -1.453753  1.676020  four"
      ]
     },
     "execution_count": 43,
     "metadata": {},
     "output_type": "execute_result"
    }
   ],
   "source": [
    "dataframe2[dataframe2[\"Fifth\"].isin([\"two\",\"four\"])]"
   ]
  },
  {
   "cell_type": "code",
   "execution_count": null,
   "id": "66ce65f1",
   "metadata": {},
   "outputs": [],
   "source": []
  }
 ],
 "metadata": {
  "kernelspec": {
   "display_name": "Python 3",
   "language": "python",
   "name": "python3"
  },
  "language_info": {
   "codemirror_mode": {
    "name": "ipython",
    "version": 3
   },
   "file_extension": ".py",
   "mimetype": "text/x-python",
   "name": "python",
   "nbconvert_exporter": "python",
   "pygments_lexer": "ipython3",
   "version": "3.8.11"
  }
 },
 "nbformat": 4,
 "nbformat_minor": 5
}
